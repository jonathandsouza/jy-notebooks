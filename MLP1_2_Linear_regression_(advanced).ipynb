{
  "cells": [
    {
      "cell_type": "markdown",
      "metadata": {
        "id": "view-in-github",
        "colab_type": "text"
      },
      "source": [
        "<a href=\"https://colab.research.google.com/github/jonathandsouza/jy-notebooks/blob/main/MLP1_2_Linear_regression_(advanced).ipynb\" target=\"_parent\"><img src=\"https://colab.research.google.com/assets/colab-badge.svg\" alt=\"Open In Colab\"/></a>"
      ]
    },
    {
      "cell_type": "code",
      "execution_count": 2,
      "metadata": {
        "id": "IRy8f3IBRXLf"
      },
      "outputs": [],
      "source": [
        "import pandas as pd\n",
        "import numpy as np\n",
        "import matplotlib.pyplot as plt\n",
        "import seaborn as sns\n",
        "import warnings\n",
        "\n",
        "sns.set()\n",
        "%matplotlib inline "
      ]
    },
    {
      "cell_type": "code",
      "execution_count": 3,
      "metadata": {
        "id": "ZLlvOfZy3gxO"
      },
      "outputs": [],
      "source": [
        "from sklearn.model_selection import train_test_split\n",
        "from sklearn.linear_model import LinearRegression\n",
        "from sklearn.metrics import mean_squared_error, mean_absolute_error, r2_score\n",
        "from sklearn.dummy import DummyRegressor"
      ]
    },
    {
      "cell_type": "markdown",
      "metadata": {
        "id": "moEG8F0v4CuO"
      },
      "source": [
        "#More training on Linear Regression"
      ]
    },
    {
      "cell_type": "markdown",
      "metadata": {
        "id": "NJC16Ttx4G4D"
      },
      "source": [
        "Let's do some more (simple) linear modeling.\n",
        "\n",
        "Below we generate random data to fit our model to, and take a look using a scatter plot."
      ]
    },
    {
      "cell_type": "code",
      "execution_count": 8,
      "metadata": {
        "id": "udFqALvv4Evy",
        "colab": {
          "base_uri": "https://localhost:8080/",
          "height": 996
        },
        "outputId": "94d937b7-101e-4daa-d49f-d0d47229850f"
      },
      "outputs": [
        {
          "output_type": "stream",
          "name": "stdout",
          "text": [
            "                x\n",
            "count  100.000000\n",
            "mean     0.552823\n",
            "std      0.275369\n",
            "min      0.017764\n",
            "25%      0.324664\n",
            "50%      0.597950\n",
            "75%      0.779780\n",
            "max      0.988640\n",
            "          x\n",
            "0  0.232849\n",
            "1  0.269973\n",
            "2  0.593915\n",
            "3  0.609948\n",
            "4  0.816863\n",
            "                x       label\n",
            "count  100.000000  100.000000\n",
            "mean     0.552823    5.946206\n",
            "std      0.275369    1.715412\n",
            "min      0.017764    1.884426\n",
            "25%      0.324664    4.829839\n",
            "50%      0.597950    6.103377\n",
            "75%      0.779780    7.003128\n",
            "max      0.988640    9.552255\n",
            "          x     label\n",
            "0  0.232849  5.040162\n",
            "1  0.269973  4.340765\n",
            "2  0.593915  7.746442\n",
            "3  0.609948  5.761424\n",
            "4  0.816863  7.760353\n"
          ]
        },
        {
          "output_type": "execute_result",
          "data": {
            "text/plain": [
              "<Axes: xlabel='x', ylabel='label'>"
            ]
          },
          "metadata": {},
          "execution_count": 8
        },
        {
          "output_type": "display_data",
          "data": {
            "text/plain": [
              "<Figure size 640x480 with 1 Axes>"
            ],
            "image/png": "[encoded data removed]"
          },
          "metadata": {}
        }
      ],
      "source": [
        "a0 = 3\n",
        "a1 = 5.2\n",
        "n_samples = 100\n",
        "\n",
        "df = pd.DataFrame(np.random.random(n_samples), columns=[\"x\"])\n",
        "\n",
        "print(df.describe());\n",
        "print(df.head());\n",
        "\n",
        "df['label'] = 3 + a1*df.x + np.random.randn(n_samples) # y = a0 + a1*x + noise\n",
        "\n",
        "print(df.describe());\n",
        "print(df.head());\n",
        "\n",
        "df.plot.scatter(x=\"x\", y=\"label\")"
      ]
    },
    {
      "cell_type": "markdown",
      "source": [
        "This time we are sure our data meets the linear assumptions (because we generated it that way):\n",
        "* There is a linear relation\n",
        "* No outliers\n",
        "* No collinearity (just one feature)\n",
        "* Normal distribution"
      ],
      "metadata": {
        "id": "uTQXj28_PiJI"
      }
    },
    {
      "cell_type": "markdown",
      "source": [
        "For the sake of practice, let's run through the steps again."
      ],
      "metadata": {
        "id": "qLtw7RLiQh1q"
      }
    },
    {
      "cell_type": "code",
      "execution_count": null,
      "metadata": {
        "id": "EGWyoayj4N10"
      },
      "outputs": [],
      "source": [
        "# Seperating feature and target\n",
        "X = df.drop(\"label\", axis=1)\n",
        "y = df.label\n",
        "\n",
        "# Train_test_split\n",
        "X_train, X_test, y_train, y_test = train_test_split(X, y, test_size=0.2,random_state=1)\n",
        "\n",
        "# Fit model\n",
        "reg = LinearRegression()\n",
        "reg.fit(X_train, y_train)"
      ]
    },
    {
      "cell_type": "markdown",
      "metadata": {
        "id": "Fhuy5FUY4ghn"
      },
      "source": [
        "Let's take a deeper look in what the model has actually learned. To do this we look at the intercept (constant) and the coefficient (slope of the line).\n",
        "\n"
      ]
    },
    {
      "cell_type": "code",
      "execution_count": null,
      "metadata": {
        "id": "BgVmWePL4fYo"
      },
      "outputs": [],
      "source": [
        "print(reg.intercept_)\n",
        "print(reg.coef_)"
      ]
    },
    {
      "cell_type": "markdown",
      "source": [
        "So the fitted function we have derived from using the train-dataset is:\n",
        "\n",
        "                                ŷ = 2.66 + 5.96(x)\n",
        "                                \n",
        "If x is zero, our predicted y-value is 2.66. And for every increase of x by 1 our predicted y-value increases by 5.96."
      ],
      "metadata": {
        "id": "_be2y1T1R5r_"
      }
    },
    {
      "cell_type": "code",
      "execution_count": null,
      "metadata": {
        "id": "mN3ZfI304waw"
      },
      "outputs": [],
      "source": [
        "# Predict based on the fitted model\n",
        "y_pred = reg.predict(X_test)\n",
        "y_pred"
      ]
    },
    {
      "cell_type": "code",
      "execution_count": null,
      "metadata": {
        "id": "I7aMlaVp421t"
      },
      "outputs": [],
      "source": [
        "# Evaluate model using performance metrics\n",
        "print(\"RMSE\",mean_squared_error(y_test,y_pred, squared=False))\n",
        "print(\"MAE\",mean_absolute_error(y_test,y_pred))\n",
        "print(\"R2\",r2_score(y_test,y_pred))"
      ]
    },
    {
      "cell_type": "code",
      "execution_count": null,
      "metadata": {
        "id": "BvOPVOiu5vdh"
      },
      "outputs": [],
      "source": [
        "# Performance score of always using mean-value\n",
        "dummy = DummyRegressor(strategy='mean')\n",
        "dummy.fit(X_train, y_train)\n",
        "dummy_pred = dummy.predict(X_test)\n",
        "\n",
        "print(\"RMSE\",mean_squared_error(y_test,dummy_pred, squared=False))"
      ]
    },
    {
      "cell_type": "markdown",
      "metadata": {
        "id": "BSqXXIGFn9aI"
      },
      "source": [
        "#Visualising the model\n",
        "\n",
        "Let's use matplotlib to visualize our linear regression model.\n",
        "\n",
        "For every possible input, we want to see the prediction that the model makes. We first generate a number of possible x values. Then we let the model make predictions. And then we plot the input and the output in a visualization."
      ]
    },
    {
      "cell_type": "code",
      "execution_count": null,
      "metadata": {
        "id": "z2H3RDe_oaC7"
      },
      "outputs": [],
      "source": [
        "df_modelvisual = pd.DataFrame(np.arange(df.x.min(), df.x.max(), 0.01), columns=[\"x\"])\n",
        "df_modelvisual[\"prediction\"] = reg.predict(df_modelvisual)\n",
        "ax = df.plot.scatter(x=\"x\", y=\"label\")\n",
        "df_modelvisual.plot(x=\"x\", y=\"prediction\", ax=ax, c=\"red\")"
      ]
    },
    {
      "cell_type": "markdown",
      "source": [
        "This indeed resembles what we saw in our fitted function. The line starts at (x=0, y=2.66) and ends at (x=1, y = 2.66 + 5.96 = 8.62)."
      ],
      "metadata": {
        "id": "F1so-9xgUOqU"
      }
    },
    {
      "cell_type": "markdown",
      "metadata": {
        "id": "F0QlCg4w5zuS"
      },
      "source": [
        "#Assignment 1.2\n",
        "\n",
        "Now that we fully understand Simple Linear Regression, we go back to Multiple Linear Regression. This is basically the same, just using multiple independent variables instead of one (like we did in the first homework assignment already).\n",
        "\n",
        "Again the model calculates an intercept, and in this case multiple coefficients. Each corresponding to the impact of the specific feature to the predicted value of y.\n"
      ]
    },
    {
      "cell_type": "markdown",
      "source": [
        "We are going to work with a housing dataset again, this time from Ames. Again we train and evaluate a Linear Regression model, but this time we are going to take into account the conditions for making a good LR-model."
      ],
      "metadata": {
        "id": "EwCQYvs8nxV-"
      }
    },
    {
      "cell_type": "code",
      "execution_count": null,
      "metadata": {
        "id": "P6y_TOBJ5wyi"
      },
      "outputs": [],
      "source": [
        "from sklearn.datasets import fetch_openml\n",
        "housing = fetch_openml(name=\"house_prices\", as_frame=True)"
      ]
    },
    {
      "cell_type": "code",
      "source": [
        "df = pd.DataFrame(housing.data, columns=housing.feature_names)\n",
        "df['target'] = housing.target\n",
        "df.head()"
      ],
      "metadata": {
        "id": "UEloDtwOYusc"
      },
      "execution_count": null,
      "outputs": []
    },
    {
      "cell_type": "markdown",
      "source": [
        "If you want a description of the dataset, and the meaning of the columns, print housing.DESCR: `print(housing.DESCR)`"
      ],
      "metadata": {
        "id": "nlpX1_RSj_hy"
      }
    },
    {
      "cell_type": "markdown",
      "source": [
        "**Question 1:**\n",
        "* explore the dataset, clean up if necessary\n",
        "* check which features have a relationship with the target, and go on using only those features (tip: use [correlation matrix](https://www.google.com/search?q=correlation+matrix+python&client=firefox-b-d&sxsrf=ALiCzsY50AE5OoOVOqD-NNsyS48H-IzXQQ%3A1666088872474&ei=qH9OY-G-HIf9kwWUrIr4Bw&ved=0ahUKEwjhsqHbyOn6AhWH_qQKHRSWAn8Q4dUDCA4&uact=5&oq=correlation+matrix+python&gs_lcp=Cgdnd3Mtd2l6EAMyCAgAEIAEEMsBMgUIABCABDIICAAQgAQQywEyCAgAEIAEEMsBMggIABCABBDLATIICAAQgAQQywEyCAgAEIAEEMsBMggIABCABBDLATIICAAQgAQQywEyCAgAEIAEEMsBOgoIABBHENYEELADOgcIABCwAxBDOg0IABDkAhDWBBCwAxgBSgQITRgBSgQIQRgASgQIRhgBUJcEWNcKYOILaAFwAXgAgAE7iAH0ApIBATeYAQCgAQHIARHAAQHaAQYIARABGAk&sclient=gws-wiz))\n",
        "* check the distribution of the variables (are they Gaussian?) (tip: use [pairplot](https://seaborn.pydata.org/generated/seaborn.pairplot.html)), if necessary adjust the distribution (tip: [log-transform](https://www.geeksforgeeks.org/numpy-log-python/))\n",
        "* find out if the relationship with the target is linear\n",
        "* train and evaluate a regression model on your selected features (use a baseline as comparison)\n",
        "* look at the coefficients for each feature. What do we make out of this?"
      ],
      "metadata": {
        "id": "u7yYVJ0kf1OQ"
      }
    },
    {
      "cell_type": "code",
      "source": [],
      "metadata": {
        "id": "9fnX3vV1g4fx"
      },
      "execution_count": null,
      "outputs": []
    }
  ],
  "metadata": {
    "colab": {
      "provenance": [],
      "include_colab_link": true
    },
    "kernelspec": {
      "display_name": "Python 3",
      "name": "python3"
    },
    "language_info": {
      "name": "python"
    }
  },
  "nbformat": 4,
  "nbformat_minor": 0
}